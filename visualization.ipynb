{
 "metadata": {
  "language_info": {
   "codemirror_mode": {
    "name": "ipython",
    "version": 3
   },
   "file_extension": ".py",
   "mimetype": "text/x-python",
   "name": "python",
   "nbconvert_exporter": "python",
   "pygments_lexer": "ipython3",
   "version": "3.7.3"
  },
  "orig_nbformat": 4,
  "kernelspec": {
   "name": "python3",
   "display_name": "Python 3.7.3 64-bit ('base': conda)"
  },
  "interpreter": {
   "hash": "2b9cd5c3ec4eb793e30b3fe22fb3034f3d8c9722bad10f4cedbbd7faa7e7f261"
  }
 },
 "nbformat": 4,
 "nbformat_minor": 2,
 "cells": [
  {
   "cell_type": "code",
   "execution_count": 2,
   "metadata": {},
   "outputs": [],
   "source": [
    "import pandas as pd"
   ]
  },
  {
   "cell_type": "code",
   "execution_count": 6,
   "metadata": {},
   "outputs": [],
   "source": [
    "doc = pd.read_csv('datasets/medicalDoctors.csv')\n",
    "nur = pd.read_csv('datasets/nursingAndMidwife.csv')\n",
    "pha = pd.read_csv('datasets/pharmacists.csv')\n",
    "den = pd.read_csv('datasets/dentists.csv')"
   ]
  },
  {
   "cell_type": "code",
   "execution_count": 18,
   "metadata": {},
   "outputs": [
    {
     "output_type": "execute_result",
     "data": {
      "text/plain": [
       "      Location  Period                     Indicator  First Tooltip\n",
       "0  Afghanistan    2016  Medical doctors (per 10,000)           2.78\n",
       "1  Afghanistan    2015  Medical doctors (per 10,000)           2.85\n",
       "2  Afghanistan    2014  Medical doctors (per 10,000)           2.98\n",
       "3  Afghanistan    2013  Medical doctors (per 10,000)           2.85\n",
       "4  Afghanistan    2012  Medical doctors (per 10,000)           2.41"
      ],
      "text/html": "<div>\n<style scoped>\n    .dataframe tbody tr th:only-of-type {\n        vertical-align: middle;\n    }\n\n    .dataframe tbody tr th {\n        vertical-align: top;\n    }\n\n    .dataframe thead th {\n        text-align: right;\n    }\n</style>\n<table border=\"1\" class=\"dataframe\">\n  <thead>\n    <tr style=\"text-align: right;\">\n      <th></th>\n      <th>Location</th>\n      <th>Period</th>\n      <th>Indicator</th>\n      <th>First Tooltip</th>\n    </tr>\n  </thead>\n  <tbody>\n    <tr>\n      <th>0</th>\n      <td>Afghanistan</td>\n      <td>2016</td>\n      <td>Medical doctors (per 10,000)</td>\n      <td>2.78</td>\n    </tr>\n    <tr>\n      <th>1</th>\n      <td>Afghanistan</td>\n      <td>2015</td>\n      <td>Medical doctors (per 10,000)</td>\n      <td>2.85</td>\n    </tr>\n    <tr>\n      <th>2</th>\n      <td>Afghanistan</td>\n      <td>2014</td>\n      <td>Medical doctors (per 10,000)</td>\n      <td>2.98</td>\n    </tr>\n    <tr>\n      <th>3</th>\n      <td>Afghanistan</td>\n      <td>2013</td>\n      <td>Medical doctors (per 10,000)</td>\n      <td>2.85</td>\n    </tr>\n    <tr>\n      <th>4</th>\n      <td>Afghanistan</td>\n      <td>2012</td>\n      <td>Medical doctors (per 10,000)</td>\n      <td>2.41</td>\n    </tr>\n  </tbody>\n</table>\n</div>"
     },
     "metadata": {},
     "execution_count": 18
    }
   ],
   "source": [
    "doc.head()"
   ]
  },
  {
   "cell_type": "code",
   "execution_count": 11,
   "metadata": {},
   "outputs": [
    {
     "output_type": "execute_result",
     "data": {
      "text/plain": [
       "array(['Dentists (per 10,000)'], dtype=object)"
      ]
     },
     "metadata": {},
     "execution_count": 11
    }
   ],
   "source": [
    "den.Indicator.unique()"
   ]
  },
  {
   "cell_type": "code",
   "execution_count": 15,
   "metadata": {},
   "outputs": [
    {
     "output_type": "execute_result",
     "data": {
      "text/plain": [
       "Location\n",
       "Afghanistan                           0.082167\n",
       "Albania                               4.034000\n",
       "Algeria                               3.067500\n",
       "Andorra                               6.042857\n",
       "Angola                                0.060500\n",
       "                                        ...   \n",
       "Vanuatu                               0.370000\n",
       "Venezuela (Bolivarian Republic of)    5.550000\n",
       "Yemen                                 0.217500\n",
       "Zambia                                0.128143\n",
       "Zimbabwe                              0.120571\n",
       "Name: First Tooltip, Length: 191, dtype: float64"
      ]
     },
     "metadata": {},
     "execution_count": 15
    }
   ],
   "source": [
    "den.groupby('Location').mean()['First Tooltip']"
   ]
  },
  {
   "cell_type": "code",
   "execution_count": 17,
   "metadata": {},
   "outputs": [
    {
     "output_type": "execute_result",
     "data": {
      "text/plain": [
       "                                               Location  Period  \\\n",
       "0                                           Afghanistan    2016   \n",
       "65                                            Australia    2016   \n",
       "78                                              Austria    2016   \n",
       "147                                          Bangladesh    2016   \n",
       "193                                             Belgium    2016   \n",
       "...                                                 ...     ...   \n",
       "2045                               United Arab Emirates    2016   \n",
       "2064  United Kingdom of Great Britain and Northern I...    2016   \n",
       "2084                                            Uruguay    2016   \n",
       "2114                                             Zambia    2016   \n",
       "2122                                           Zimbabwe    2016   \n",
       "\n",
       "                  Indicator  First Tooltip  \n",
       "0     Dentists (per 10,000)          0.034  \n",
       "65    Dentists (per 10,000)          5.860  \n",
       "78    Dentists (per 10,000)          5.660  \n",
       "147   Dentists (per 10,000)          0.440  \n",
       "193   Dentists (per 10,000)          7.470  \n",
       "...                     ...            ...  \n",
       "2045  Dentists (per 10,000)          5.520  \n",
       "2064  Dentists (per 10,000)          5.260  \n",
       "2084  Dentists (per 10,000)         12.190  \n",
       "2114  Dentists (per 10,000)          0.190  \n",
       "2122  Dentists (per 10,000)          0.097  \n",
       "\n",
       "[83 rows x 4 columns]"
      ],
      "text/html": "<div>\n<style scoped>\n    .dataframe tbody tr th:only-of-type {\n        vertical-align: middle;\n    }\n\n    .dataframe tbody tr th {\n        vertical-align: top;\n    }\n\n    .dataframe thead th {\n        text-align: right;\n    }\n</style>\n<table border=\"1\" class=\"dataframe\">\n  <thead>\n    <tr style=\"text-align: right;\">\n      <th></th>\n      <th>Location</th>\n      <th>Period</th>\n      <th>Indicator</th>\n      <th>First Tooltip</th>\n    </tr>\n  </thead>\n  <tbody>\n    <tr>\n      <th>0</th>\n      <td>Afghanistan</td>\n      <td>2016</td>\n      <td>Dentists (per 10,000)</td>\n      <td>0.034</td>\n    </tr>\n    <tr>\n      <th>65</th>\n      <td>Australia</td>\n      <td>2016</td>\n      <td>Dentists (per 10,000)</td>\n      <td>5.860</td>\n    </tr>\n    <tr>\n      <th>78</th>\n      <td>Austria</td>\n      <td>2016</td>\n      <td>Dentists (per 10,000)</td>\n      <td>5.660</td>\n    </tr>\n    <tr>\n      <th>147</th>\n      <td>Bangladesh</td>\n      <td>2016</td>\n      <td>Dentists (per 10,000)</td>\n      <td>0.440</td>\n    </tr>\n    <tr>\n      <th>193</th>\n      <td>Belgium</td>\n      <td>2016</td>\n      <td>Dentists (per 10,000)</td>\n      <td>7.470</td>\n    </tr>\n    <tr>\n      <th>...</th>\n      <td>...</td>\n      <td>...</td>\n      <td>...</td>\n      <td>...</td>\n    </tr>\n    <tr>\n      <th>2045</th>\n      <td>United Arab Emirates</td>\n      <td>2016</td>\n      <td>Dentists (per 10,000)</td>\n      <td>5.520</td>\n    </tr>\n    <tr>\n      <th>2064</th>\n      <td>United Kingdom of Great Britain and Northern I...</td>\n      <td>2016</td>\n      <td>Dentists (per 10,000)</td>\n      <td>5.260</td>\n    </tr>\n    <tr>\n      <th>2084</th>\n      <td>Uruguay</td>\n      <td>2016</td>\n      <td>Dentists (per 10,000)</td>\n      <td>12.190</td>\n    </tr>\n    <tr>\n      <th>2114</th>\n      <td>Zambia</td>\n      <td>2016</td>\n      <td>Dentists (per 10,000)</td>\n      <td>0.190</td>\n    </tr>\n    <tr>\n      <th>2122</th>\n      <td>Zimbabwe</td>\n      <td>2016</td>\n      <td>Dentists (per 10,000)</td>\n      <td>0.097</td>\n    </tr>\n  </tbody>\n</table>\n<p>83 rows × 4 columns</p>\n</div>"
     },
     "metadata": {},
     "execution_count": 17
    }
   ],
   "source": [
    "den[den['Period'] == 2016]"
   ]
  },
  {
   "cell_type": "code",
   "execution_count": null,
   "metadata": {},
   "outputs": [],
   "source": []
  }
 ]
}